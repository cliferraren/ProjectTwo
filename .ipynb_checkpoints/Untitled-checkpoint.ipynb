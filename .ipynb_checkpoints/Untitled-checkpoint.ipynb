{
 "cells": [
  {
   "cell_type": "code",
   "execution_count": null,
   "metadata": {},
   "outputs": [],
   "source": [
    "import pandas as pd\n",
    "import numpy as np\n",
    "import matplotlib\n",
    "import matplotlib.pyplot as plt\n",
    "import StringIO\n",
    "import zipfile\n",
    "import urllib\n",
    "from __future__ import division, print_function\n",
    "\n",
    "matplotlib.style.use('fivethirtyeight')\n",
    "%matplotlib inline\n",
    "# Download and extract the 2015 FARS file\n",
    "output = StringIO.StringIO()\n",
    "output.write(urllib.urlopen('ftp://ftp.nhtsa.dot.gov/FARS/2015/National/FARS2015NationalCSV.zip').read())\n",
    "fars_zip = zipfile.ZipFile(output)\n",
    "fars_zip.extract('accident.csv')\n",
    "\n",
    "# Read the data file into a pandas DataFrame\n",
    "df_fatality = pd.read_csv('accident.csv')\n",
    "#Motor Vehicles are Third-Leading Cause of Death Due to Injury \n",
    "# Number of traffic fatalities in the US in 2012 using pandas DataFrame sum function\n",
    "total_traffic_fatalities = df_fatality.FATALS.sum()\n",
    "print(\"2015 Traffic Fatalities: \", total_traffic_fatalities)"
   ]
  },
  {
   "cell_type": "code",
   "execution_count": null,
   "metadata": {},
   "outputs": [],
   "source": [
    "# Get the rates\n",
    "df_cdc = pd.read_csv('data/cdc_injuries_2015.txt',delimiter='\\t')\n",
    "df_cdc['Rate'] = df_cdc['Deaths'] /  (df_cdc['Population'] / 100000)\n",
    "\n",
    "# Create the series for plotting\n",
    "df_cdc_rates = df_cdc.set_index('Injury Mechanism & All Other Leading Causes')['Rate']\\\n",
    "    .dropna()\\\n",
    "    .sort_values()\n",
    "\n",
    "# Plot the top 10\n",
    "plt.figure(figsize=(12,6))\n",
    "df_cdc_rates.iloc[-10:].plot(kind='barh',\n",
    "               title='Motor Vehicles are Third-Leading Cause of Death Due to Injury')\n",
    "plt.xlabel('Deaths per 100k people, 2015')\n",
    "plt.ylabel('')\n",
    "plt.show()"
   ]
  }
 ],
 "metadata": {
  "kernelspec": {
   "display_name": "Python 3",
   "language": "python",
   "name": "python3"
  },
  "language_info": {
   "codemirror_mode": {
    "name": "ipython",
    "version": 3
   },
   "file_extension": ".py",
   "mimetype": "text/x-python",
   "name": "python",
   "nbconvert_exporter": "python",
   "pygments_lexer": "ipython3",
   "version": "3.6.4"
  }
 },
 "nbformat": 4,
 "nbformat_minor": 2
}
