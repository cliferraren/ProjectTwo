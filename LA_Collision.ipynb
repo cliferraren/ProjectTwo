{
 "cells": [
  {
   "cell_type": "markdown",
   "metadata": {},
   "source": [
    "## Create Directory"
   ]
  },
  {
   "cell_type": "code",
   "execution_count": null,
   "metadata": {},
   "outputs": [],
   "source": [
    "#!create a data directory\n",
    "%mkdir data"
   ]
  },
  {
   "cell_type": "markdown",
   "metadata": {},
   "source": [
    "## Connecting to LA Socrata Database"
   ]
  },
  {
   "cell_type": "code",
   "execution_count": 1,
   "metadata": {},
   "outputs": [],
   "source": [
    "#Import Dependencies\n",
    "import pandas as pd\n",
    "from sodapy import Socrata"
   ]
  },
  {
   "cell_type": "code",
   "execution_count": null,
   "metadata": {},
   "outputs": [],
   "source": [
    "#Import user credentials\n",
    "from config import *"
   ]
  },
  {
   "cell_type": "code",
   "execution_count": null,
   "metadata": {},
   "outputs": [],
   "source": [
    "client = Socrata('data.lacity.org', App_Token, username=username,password=password)"
   ]
  },
  {
   "cell_type": "code",
   "execution_count": null,
   "metadata": {},
   "outputs": [],
   "source": [
    "results = client.get(\"k8cc-2d49\", limit=500000)"
   ]
  },
  {
   "cell_type": "code",
   "execution_count": null,
   "metadata": {},
   "outputs": [],
   "source": [
    "#Store the data in a csv format for reusability\n",
    "results_df = pd.DataFrame.from_records(results)"
   ]
  },
  {
   "cell_type": "code",
   "execution_count": null,
   "metadata": {},
   "outputs": [],
   "source": [
    "results_df.to_csv(\"data/collision.csv\", index=False)"
   ]
  },
  {
   "cell_type": "markdown",
   "metadata": {},
   "source": [
    "## Data Munging"
   ]
  },
  {
   "cell_type": "code",
   "execution_count": 2,
   "metadata": {},
   "outputs": [
    {
     "name": "stderr",
     "output_type": "stream",
     "text": [
      "/anaconda3/lib/python3.6/site-packages/IPython/core/interactiveshell.py:2728: DtypeWarning: Columns (6) have mixed types. Specify dtype option on import or set low_memory=False.\n",
      "  interactivity=interactivity, compiler=compiler, result=result)\n"
     ]
    }
   ],
   "source": [
    "#Read the stored collision data\n",
    "collisionDF = pd.read_csv('data/collision.csv')"
   ]
  },
  {
   "cell_type": "code",
   "execution_count": 3,
   "metadata": {},
   "outputs": [
    {
     "data": {
      "text/html": [
       "<div>\n",
       "<style scoped>\n",
       "    .dataframe tbody tr th:only-of-type {\n",
       "        vertical-align: middle;\n",
       "    }\n",
       "\n",
       "    .dataframe tbody tr th {\n",
       "        vertical-align: top;\n",
       "    }\n",
       "\n",
       "    .dataframe thead th {\n",
       "        text-align: right;\n",
       "    }\n",
       "</style>\n",
       "<table border=\"1\" class=\"dataframe\">\n",
       "  <thead>\n",
       "    <tr style=\"text-align: right;\">\n",
       "      <th></th>\n",
       "      <th>area</th>\n",
       "      <th>area_name</th>\n",
       "      <th>crm_cd</th>\n",
       "      <th>crm_cd_desc</th>\n",
       "      <th>cross_street</th>\n",
       "      <th>date_occ</th>\n",
       "      <th>date_rptd</th>\n",
       "      <th>dr_no</th>\n",
       "      <th>location</th>\n",
       "      <th>location_1</th>\n",
       "      <th>mocodes</th>\n",
       "      <th>premis_cd</th>\n",
       "      <th>premis_desc</th>\n",
       "      <th>rpt_dist_no</th>\n",
       "      <th>time_occ</th>\n",
       "      <th>vict_age</th>\n",
       "      <th>vict_descent</th>\n",
       "      <th>vict_sex</th>\n",
       "    </tr>\n",
       "  </thead>\n",
       "  <tbody>\n",
       "    <tr>\n",
       "      <th>0</th>\n",
       "      <td>1</td>\n",
       "      <td>Central</td>\n",
       "      <td>997</td>\n",
       "      <td>TRAFFIC COLLISION</td>\n",
       "      <td>2ND</td>\n",
       "      <td>2010-04-20T00:00:00.000</td>\n",
       "      <td>NaN</td>\n",
       "      <td>100109637</td>\n",
       "      <td>ALAMEDA</td>\n",
       "      <td>{'type': 'Point', 'coordinates': [-118.2381, 3...</td>\n",
       "      <td>NaN</td>\n",
       "      <td>101.0</td>\n",
       "      <td>STREET</td>\n",
       "      <td>138</td>\n",
       "      <td>1235</td>\n",
       "      <td>55.0</td>\n",
       "      <td>B</td>\n",
       "      <td>M</td>\n",
       "    </tr>\n",
       "    <tr>\n",
       "      <th>1</th>\n",
       "      <td>7</td>\n",
       "      <td>Wilshire</td>\n",
       "      <td>997</td>\n",
       "      <td>TRAFFIC COLLISION</td>\n",
       "      <td>RIMPAU</td>\n",
       "      <td>2010-12-21T00:00:00.000</td>\n",
       "      <td>NaN</td>\n",
       "      <td>100719446</td>\n",
       "      <td>PICO</td>\n",
       "      <td>{'type': 'Point', 'coordinates': [-118.337, 34...</td>\n",
       "      <td>NaN</td>\n",
       "      <td>101.0</td>\n",
       "      <td>STREET</td>\n",
       "      <td>758</td>\n",
       "      <td>2218</td>\n",
       "      <td>37.0</td>\n",
       "      <td>B</td>\n",
       "      <td>M</td>\n",
       "    </tr>\n",
       "    <tr>\n",
       "      <th>2</th>\n",
       "      <td>1</td>\n",
       "      <td>Central</td>\n",
       "      <td>997</td>\n",
       "      <td>TRAFFIC COLLISION</td>\n",
       "      <td>BROADWAY</td>\n",
       "      <td>2010-06-04T00:00:00.000</td>\n",
       "      <td>NaN</td>\n",
       "      <td>100111904</td>\n",
       "      <td>5TH</td>\n",
       "      <td>{'type': 'Point', 'coordinates': [-118.2507, 3...</td>\n",
       "      <td>NaN</td>\n",
       "      <td>101.0</td>\n",
       "      <td>STREET</td>\n",
       "      <td>153</td>\n",
       "      <td>2310</td>\n",
       "      <td>29.0</td>\n",
       "      <td>H</td>\n",
       "      <td>M</td>\n",
       "    </tr>\n",
       "    <tr>\n",
       "      <th>3</th>\n",
       "      <td>1</td>\n",
       "      <td>Central</td>\n",
       "      <td>997</td>\n",
       "      <td>TRAFFIC COLLISION</td>\n",
       "      <td>SAN PEDRO</td>\n",
       "      <td>2010-03-22T00:00:00.000</td>\n",
       "      <td>NaN</td>\n",
       "      <td>100108154</td>\n",
       "      <td>4TH</td>\n",
       "      <td>{'type': 'Point', 'coordinates': [-118.2422, 3...</td>\n",
       "      <td>NaN</td>\n",
       "      <td>101.0</td>\n",
       "      <td>STREET</td>\n",
       "      <td>148</td>\n",
       "      <td>1325</td>\n",
       "      <td>43.0</td>\n",
       "      <td>B</td>\n",
       "      <td>F</td>\n",
       "    </tr>\n",
       "    <tr>\n",
       "      <th>4</th>\n",
       "      <td>13</td>\n",
       "      <td>Newton</td>\n",
       "      <td>997</td>\n",
       "      <td>TRAFFIC COLLISION</td>\n",
       "      <td>ADAMS</td>\n",
       "      <td>2010-01-12T00:00:00.000</td>\n",
       "      <td>NaN</td>\n",
       "      <td>101304785</td>\n",
       "      <td>HILL</td>\n",
       "      <td>{'type': 'Point', 'coordinates': [-118.2708, 3...</td>\n",
       "      <td>NaN</td>\n",
       "      <td>101.0</td>\n",
       "      <td>STREET</td>\n",
       "      <td>1321</td>\n",
       "      <td>1800</td>\n",
       "      <td>34.0</td>\n",
       "      <td>O</td>\n",
       "      <td>M</td>\n",
       "    </tr>\n",
       "  </tbody>\n",
       "</table>\n",
       "</div>"
      ],
      "text/plain": [
       "   area area_name  crm_cd        crm_cd_desc cross_street  \\\n",
       "0     1   Central     997  TRAFFIC COLLISION          2ND   \n",
       "1     7  Wilshire     997  TRAFFIC COLLISION       RIMPAU   \n",
       "2     1   Central     997  TRAFFIC COLLISION     BROADWAY   \n",
       "3     1   Central     997  TRAFFIC COLLISION    SAN PEDRO   \n",
       "4    13    Newton     997  TRAFFIC COLLISION        ADAMS   \n",
       "\n",
       "                  date_occ date_rptd      dr_no location  \\\n",
       "0  2010-04-20T00:00:00.000       NaN  100109637  ALAMEDA   \n",
       "1  2010-12-21T00:00:00.000       NaN  100719446     PICO   \n",
       "2  2010-06-04T00:00:00.000       NaN  100111904      5TH   \n",
       "3  2010-03-22T00:00:00.000       NaN  100108154      4TH   \n",
       "4  2010-01-12T00:00:00.000       NaN  101304785     HILL   \n",
       "\n",
       "                                          location_1 mocodes  premis_cd  \\\n",
       "0  {'type': 'Point', 'coordinates': [-118.2381, 3...     NaN      101.0   \n",
       "1  {'type': 'Point', 'coordinates': [-118.337, 34...     NaN      101.0   \n",
       "2  {'type': 'Point', 'coordinates': [-118.2507, 3...     NaN      101.0   \n",
       "3  {'type': 'Point', 'coordinates': [-118.2422, 3...     NaN      101.0   \n",
       "4  {'type': 'Point', 'coordinates': [-118.2708, 3...     NaN      101.0   \n",
       "\n",
       "  premis_desc  rpt_dist_no  time_occ  vict_age vict_descent vict_sex  \n",
       "0      STREET          138      1235      55.0            B        M  \n",
       "1      STREET          758      2218      37.0            B        M  \n",
       "2      STREET          153      2310      29.0            H        M  \n",
       "3      STREET          148      1325      43.0            B        F  \n",
       "4      STREET         1321      1800      34.0            O        M  "
      ]
     },
     "execution_count": 3,
     "metadata": {},
     "output_type": "execute_result"
    }
   ],
   "source": [
    "#Print Sample data\n",
    "collisionDF[:5]"
   ]
  },
  {
   "cell_type": "code",
   "execution_count": 4,
   "metadata": {},
   "outputs": [],
   "source": [
    "#Only needed columns are save in the new Collision DataFrame\n",
    "collisionDF= pd.DataFrame({'age': collisionDF.vict_age,\n",
    "                          'descent': collisionDF.vict_descent, \n",
    "                          'sex':collisionDF.vict_sex,\n",
    "                          'area':collisionDF.area_name, \n",
    "                          'location':collisionDF.location, \n",
    "                          'intersection': collisionDF.cross_street,\n",
    "                          'geojson':collisionDF.location_1, \n",
    "                          'date':collisionDF.date_occ, \n",
    "                          'time':collisionDF.time_occ,\n",
    "                          'reporting_district':collisionDF.rpt_dist_no\n",
    "                         })"
   ]
  },
  {
   "cell_type": "code",
   "execution_count": 6,
   "metadata": {},
   "outputs": [
    {
     "data": {
      "text/html": [
       "<div>\n",
       "<style scoped>\n",
       "    .dataframe tbody tr th:only-of-type {\n",
       "        vertical-align: middle;\n",
       "    }\n",
       "\n",
       "    .dataframe tbody tr th {\n",
       "        vertical-align: top;\n",
       "    }\n",
       "\n",
       "    .dataframe thead th {\n",
       "        text-align: right;\n",
       "    }\n",
       "</style>\n",
       "<table border=\"1\" class=\"dataframe\">\n",
       "  <thead>\n",
       "    <tr style=\"text-align: right;\">\n",
       "      <th></th>\n",
       "      <th>age</th>\n",
       "      <th>area</th>\n",
       "      <th>date</th>\n",
       "      <th>descent</th>\n",
       "      <th>geojson</th>\n",
       "      <th>intersection</th>\n",
       "      <th>location</th>\n",
       "      <th>reporting_district</th>\n",
       "      <th>sex</th>\n",
       "      <th>time</th>\n",
       "    </tr>\n",
       "  </thead>\n",
       "  <tbody>\n",
       "    <tr>\n",
       "      <th>0</th>\n",
       "      <td>55.0</td>\n",
       "      <td>Central</td>\n",
       "      <td>2010-04-20</td>\n",
       "      <td>B</td>\n",
       "      <td>{'type': 'Point', 'coordinates': [-118.2381, 3...</td>\n",
       "      <td>2ND</td>\n",
       "      <td>ALAMEDA</td>\n",
       "      <td>138</td>\n",
       "      <td>M</td>\n",
       "      <td>1235</td>\n",
       "    </tr>\n",
       "    <tr>\n",
       "      <th>1</th>\n",
       "      <td>37.0</td>\n",
       "      <td>Wilshire</td>\n",
       "      <td>2010-12-21</td>\n",
       "      <td>B</td>\n",
       "      <td>{'type': 'Point', 'coordinates': [-118.337, 34...</td>\n",
       "      <td>RIMPAU</td>\n",
       "      <td>PICO</td>\n",
       "      <td>758</td>\n",
       "      <td>M</td>\n",
       "      <td>2218</td>\n",
       "    </tr>\n",
       "    <tr>\n",
       "      <th>2</th>\n",
       "      <td>29.0</td>\n",
       "      <td>Central</td>\n",
       "      <td>2010-06-04</td>\n",
       "      <td>H</td>\n",
       "      <td>{'type': 'Point', 'coordinates': [-118.2507, 3...</td>\n",
       "      <td>BROADWAY</td>\n",
       "      <td>5TH</td>\n",
       "      <td>153</td>\n",
       "      <td>M</td>\n",
       "      <td>2310</td>\n",
       "    </tr>\n",
       "    <tr>\n",
       "      <th>3</th>\n",
       "      <td>43.0</td>\n",
       "      <td>Central</td>\n",
       "      <td>2010-03-22</td>\n",
       "      <td>B</td>\n",
       "      <td>{'type': 'Point', 'coordinates': [-118.2422, 3...</td>\n",
       "      <td>SAN PEDRO</td>\n",
       "      <td>4TH</td>\n",
       "      <td>148</td>\n",
       "      <td>F</td>\n",
       "      <td>1325</td>\n",
       "    </tr>\n",
       "    <tr>\n",
       "      <th>4</th>\n",
       "      <td>34.0</td>\n",
       "      <td>Newton</td>\n",
       "      <td>2010-01-12</td>\n",
       "      <td>O</td>\n",
       "      <td>{'type': 'Point', 'coordinates': [-118.2708, 3...</td>\n",
       "      <td>ADAMS</td>\n",
       "      <td>HILL</td>\n",
       "      <td>1321</td>\n",
       "      <td>M</td>\n",
       "      <td>1800</td>\n",
       "    </tr>\n",
       "    <tr>\n",
       "      <th>5</th>\n",
       "      <td>77.0</td>\n",
       "      <td>West LA</td>\n",
       "      <td>2010-09-20</td>\n",
       "      <td>B</td>\n",
       "      <td>{'type': 'Point', 'coordinates': [-118.3918, 3...</td>\n",
       "      <td>CARDIFF</td>\n",
       "      <td>PICO</td>\n",
       "      <td>857</td>\n",
       "      <td>F</td>\n",
       "      <td>1635</td>\n",
       "    </tr>\n",
       "    <tr>\n",
       "      <th>6</th>\n",
       "      <td>74.0</td>\n",
       "      <td>Harbor</td>\n",
       "      <td>2010-11-19</td>\n",
       "      <td>H</td>\n",
       "      <td>{'type': 'Point', 'coordinates': [-118.3097, 3...</td>\n",
       "      <td>9TH</td>\n",
       "      <td>WEYMOUTH</td>\n",
       "      <td>561</td>\n",
       "      <td>F</td>\n",
       "      <td>1529</td>\n",
       "    </tr>\n",
       "    <tr>\n",
       "      <th>7</th>\n",
       "      <td>22.0</td>\n",
       "      <td>Mission</td>\n",
       "      <td>2010-07-25</td>\n",
       "      <td>H</td>\n",
       "      <td>{'type': 'Point', 'coordinates': [-118.4721, 3...</td>\n",
       "      <td>CABRITO</td>\n",
       "      <td>ORION</td>\n",
       "      <td>1991</td>\n",
       "      <td>M</td>\n",
       "      <td>800</td>\n",
       "    </tr>\n",
       "    <tr>\n",
       "      <th>8</th>\n",
       "      <td>54.0</td>\n",
       "      <td>Hollywood</td>\n",
       "      <td>2010-10-14</td>\n",
       "      <td>W</td>\n",
       "      <td>{'type': 'Point', 'coordinates': [-118.3753, 3...</td>\n",
       "      <td>MULHOLLAND                   DR</td>\n",
       "      <td>LAUREL CANYON                BL</td>\n",
       "      <td>621</td>\n",
       "      <td>M</td>\n",
       "      <td>1030</td>\n",
       "    </tr>\n",
       "    <tr>\n",
       "      <th>9</th>\n",
       "      <td>NaN</td>\n",
       "      <td>Olympic</td>\n",
       "      <td>2010-08-31</td>\n",
       "      <td>H</td>\n",
       "      <td>{'type': 'Point', 'coordinates': [-118.3091, 3...</td>\n",
       "      <td>WESTERN                      AV</td>\n",
       "      <td>OLYMPIC                      BL</td>\n",
       "      <td>2053</td>\n",
       "      <td>M</td>\n",
       "      <td>1000</td>\n",
       "    </tr>\n",
       "  </tbody>\n",
       "</table>\n",
       "</div>"
      ],
      "text/plain": [
       "    age       area       date descent  \\\n",
       "0  55.0    Central 2010-04-20       B   \n",
       "1  37.0   Wilshire 2010-12-21       B   \n",
       "2  29.0    Central 2010-06-04       H   \n",
       "3  43.0    Central 2010-03-22       B   \n",
       "4  34.0     Newton 2010-01-12       O   \n",
       "5  77.0    West LA 2010-09-20       B   \n",
       "6  74.0     Harbor 2010-11-19       H   \n",
       "7  22.0    Mission 2010-07-25       H   \n",
       "8  54.0  Hollywood 2010-10-14       W   \n",
       "9   NaN    Olympic 2010-08-31       H   \n",
       "\n",
       "                                             geojson  \\\n",
       "0  {'type': 'Point', 'coordinates': [-118.2381, 3...   \n",
       "1  {'type': 'Point', 'coordinates': [-118.337, 34...   \n",
       "2  {'type': 'Point', 'coordinates': [-118.2507, 3...   \n",
       "3  {'type': 'Point', 'coordinates': [-118.2422, 3...   \n",
       "4  {'type': 'Point', 'coordinates': [-118.2708, 3...   \n",
       "5  {'type': 'Point', 'coordinates': [-118.3918, 3...   \n",
       "6  {'type': 'Point', 'coordinates': [-118.3097, 3...   \n",
       "7  {'type': 'Point', 'coordinates': [-118.4721, 3...   \n",
       "8  {'type': 'Point', 'coordinates': [-118.3753, 3...   \n",
       "9  {'type': 'Point', 'coordinates': [-118.3091, 3...   \n",
       "\n",
       "                      intersection                         location  \\\n",
       "0                              2ND                          ALAMEDA   \n",
       "1                           RIMPAU                             PICO   \n",
       "2                         BROADWAY                              5TH   \n",
       "3                        SAN PEDRO                              4TH   \n",
       "4                            ADAMS                             HILL   \n",
       "5                          CARDIFF                             PICO   \n",
       "6                              9TH                         WEYMOUTH   \n",
       "7                          CABRITO                            ORION   \n",
       "8  MULHOLLAND                   DR  LAUREL CANYON                BL   \n",
       "9  WESTERN                      AV  OLYMPIC                      BL   \n",
       "\n",
       "   reporting_district sex  time  \n",
       "0                 138   M  1235  \n",
       "1                 758   M  2218  \n",
       "2                 153   M  2310  \n",
       "3                 148   F  1325  \n",
       "4                1321   M  1800  \n",
       "5                 857   F  1635  \n",
       "6                 561   F  1529  \n",
       "7                1991   M   800  \n",
       "8                 621   M  1030  \n",
       "9                2053   M  1000  "
      ]
     },
     "execution_count": 6,
     "metadata": {},
     "output_type": "execute_result"
    }
   ],
   "source": [
    "#Format the date in the Date column\n",
    "collisionDF.date = pd.to_datetime(collisionDF.date)\n",
    "collisionDF[:10]"
   ]
  },
  {
   "cell_type": "code",
   "execution_count": 7,
   "metadata": {},
   "outputs": [],
   "source": [
    "#Added a new column - (Day of the Week) based on the Date column\n",
    "collisionDF['day_of_week'] = collisionDF['date'].dt.weekday_name"
   ]
  },
  {
   "cell_type": "code",
   "execution_count": 8,
   "metadata": {},
   "outputs": [],
   "source": [
    "#Reorganize the columns so that its more readable\n",
    "collisionDF = collisionDF[['age', 'descent', 'sex','area', 'location', 'intersection',\n",
    "                           'geojson', 'date', 'day_of_week', 'time','reporting_district']]"
   ]
  },
  {
   "cell_type": "code",
   "execution_count": 9,
   "metadata": {},
   "outputs": [
    {
     "data": {
      "text/html": [
       "<div>\n",
       "<style scoped>\n",
       "    .dataframe tbody tr th:only-of-type {\n",
       "        vertical-align: middle;\n",
       "    }\n",
       "\n",
       "    .dataframe tbody tr th {\n",
       "        vertical-align: top;\n",
       "    }\n",
       "\n",
       "    .dataframe thead th {\n",
       "        text-align: right;\n",
       "    }\n",
       "</style>\n",
       "<table border=\"1\" class=\"dataframe\">\n",
       "  <thead>\n",
       "    <tr style=\"text-align: right;\">\n",
       "      <th></th>\n",
       "      <th>age</th>\n",
       "      <th>descent</th>\n",
       "      <th>sex</th>\n",
       "      <th>area</th>\n",
       "      <th>location</th>\n",
       "      <th>intersection</th>\n",
       "      <th>geojson</th>\n",
       "      <th>date</th>\n",
       "      <th>day_of_week</th>\n",
       "      <th>time</th>\n",
       "      <th>reporting_district</th>\n",
       "    </tr>\n",
       "  </thead>\n",
       "  <tbody>\n",
       "    <tr>\n",
       "      <th>0</th>\n",
       "      <td>55.0</td>\n",
       "      <td>B</td>\n",
       "      <td>M</td>\n",
       "      <td>Central</td>\n",
       "      <td>ALAMEDA</td>\n",
       "      <td>2ND</td>\n",
       "      <td>{'type': 'Point', 'coordinates': [-118.2381, 3...</td>\n",
       "      <td>2010-04-20</td>\n",
       "      <td>Tuesday</td>\n",
       "      <td>1235</td>\n",
       "      <td>138</td>\n",
       "    </tr>\n",
       "    <tr>\n",
       "      <th>1</th>\n",
       "      <td>37.0</td>\n",
       "      <td>B</td>\n",
       "      <td>M</td>\n",
       "      <td>Wilshire</td>\n",
       "      <td>PICO</td>\n",
       "      <td>RIMPAU</td>\n",
       "      <td>{'type': 'Point', 'coordinates': [-118.337, 34...</td>\n",
       "      <td>2010-12-21</td>\n",
       "      <td>Tuesday</td>\n",
       "      <td>2218</td>\n",
       "      <td>758</td>\n",
       "    </tr>\n",
       "    <tr>\n",
       "      <th>2</th>\n",
       "      <td>29.0</td>\n",
       "      <td>H</td>\n",
       "      <td>M</td>\n",
       "      <td>Central</td>\n",
       "      <td>5TH</td>\n",
       "      <td>BROADWAY</td>\n",
       "      <td>{'type': 'Point', 'coordinates': [-118.2507, 3...</td>\n",
       "      <td>2010-06-04</td>\n",
       "      <td>Friday</td>\n",
       "      <td>2310</td>\n",
       "      <td>153</td>\n",
       "    </tr>\n",
       "    <tr>\n",
       "      <th>3</th>\n",
       "      <td>43.0</td>\n",
       "      <td>B</td>\n",
       "      <td>F</td>\n",
       "      <td>Central</td>\n",
       "      <td>4TH</td>\n",
       "      <td>SAN PEDRO</td>\n",
       "      <td>{'type': 'Point', 'coordinates': [-118.2422, 3...</td>\n",
       "      <td>2010-03-22</td>\n",
       "      <td>Monday</td>\n",
       "      <td>1325</td>\n",
       "      <td>148</td>\n",
       "    </tr>\n",
       "    <tr>\n",
       "      <th>4</th>\n",
       "      <td>34.0</td>\n",
       "      <td>O</td>\n",
       "      <td>M</td>\n",
       "      <td>Newton</td>\n",
       "      <td>HILL</td>\n",
       "      <td>ADAMS</td>\n",
       "      <td>{'type': 'Point', 'coordinates': [-118.2708, 3...</td>\n",
       "      <td>2010-01-12</td>\n",
       "      <td>Tuesday</td>\n",
       "      <td>1800</td>\n",
       "      <td>1321</td>\n",
       "    </tr>\n",
       "  </tbody>\n",
       "</table>\n",
       "</div>"
      ],
      "text/plain": [
       "    age descent sex      area location intersection  \\\n",
       "0  55.0       B   M   Central  ALAMEDA          2ND   \n",
       "1  37.0       B   M  Wilshire     PICO       RIMPAU   \n",
       "2  29.0       H   M   Central      5TH     BROADWAY   \n",
       "3  43.0       B   F   Central      4TH    SAN PEDRO   \n",
       "4  34.0       O   M    Newton     HILL        ADAMS   \n",
       "\n",
       "                                             geojson       date day_of_week  \\\n",
       "0  {'type': 'Point', 'coordinates': [-118.2381, 3... 2010-04-20     Tuesday   \n",
       "1  {'type': 'Point', 'coordinates': [-118.337, 34... 2010-12-21     Tuesday   \n",
       "2  {'type': 'Point', 'coordinates': [-118.2507, 3... 2010-06-04      Friday   \n",
       "3  {'type': 'Point', 'coordinates': [-118.2422, 3... 2010-03-22      Monday   \n",
       "4  {'type': 'Point', 'coordinates': [-118.2708, 3... 2010-01-12     Tuesday   \n",
       "\n",
       "   time  reporting_district  \n",
       "0  1235                 138  \n",
       "1  2218                 758  \n",
       "2  2310                 153  \n",
       "3  1325                 148  \n",
       "4  1800                1321  "
      ]
     },
     "execution_count": 9,
     "metadata": {},
     "output_type": "execute_result"
    }
   ],
   "source": [
    "#Print a sample data\n",
    "collisionDF[:5]"
   ]
  },
  {
   "cell_type": "code",
   "execution_count": 10,
   "metadata": {},
   "outputs": [
    {
     "data": {
      "text/plain": [
       "age                   382396\n",
       "descent               412457\n",
       "sex                   412902\n",
       "area                  418509\n",
       "location              418509\n",
       "intersection          400211\n",
       "geojson               418509\n",
       "date                  418509\n",
       "day_of_week           418509\n",
       "time                  418509\n",
       "reporting_district    418509\n",
       "dtype: int64"
      ]
     },
     "execution_count": 10,
     "metadata": {},
     "output_type": "execute_result"
    }
   ],
   "source": [
    "#Check the count ofevery columns\n",
    "collisionDF.count()"
   ]
  },
  {
   "cell_type": "code",
   "execution_count": 11,
   "metadata": {},
   "outputs": [],
   "source": [
    "#Drop records entries for columns with NaN values\n",
    "# Note that after resetting the index, the gap is gone\n",
    "cleanDF = collisionDF.dropna(subset = ['age', 'descent', 'sex']).reset_index(drop=True)"
   ]
  },
  {
   "cell_type": "code",
   "execution_count": 12,
   "metadata": {},
   "outputs": [
    {
     "data": {
      "text/plain": [
       "age                   379407\n",
       "descent               379407\n",
       "sex                   379407\n",
       "area                  379407\n",
       "location              379407\n",
       "intersection          364867\n",
       "geojson               379407\n",
       "date                  379407\n",
       "day_of_week           379407\n",
       "time                  379407\n",
       "reporting_district    379407\n",
       "dtype: int64"
      ]
     },
     "execution_count": 12,
     "metadata": {},
     "output_type": "execute_result"
    }
   ],
   "source": [
    "#Check the count of records per column\n",
    "cleanDF.count()"
   ]
  },
  {
   "cell_type": "code",
   "execution_count": 13,
   "metadata": {},
   "outputs": [],
   "source": [
    "#Save the cleaned collision data to a csv file\n",
    "cleanDF.to_csv(\"data/Cleaned_collision.csv\", index=False)"
   ]
  },
  {
   "cell_type": "markdown",
   "metadata": {},
   "source": [
    "## Database Creation"
   ]
  },
  {
   "cell_type": "code",
   "execution_count": 14,
   "metadata": {},
   "outputs": [],
   "source": [
    "# Python SQL toolkit and Object Relational Mapper\n",
    "import sqlalchemy\n",
    "from sqlalchemy import create_engine, MetaData\n",
    "from sqlalchemy.ext.declarative import declarative_base\n",
    "from sqlalchemy import Column, Integer, String, Numeric, Text, Float"
   ]
  },
  {
   "cell_type": "code",
   "execution_count": 15,
   "metadata": {},
   "outputs": [],
   "source": [
    "# Create an engine to a SQLite database file called `customers.sqlite`\n",
    "engine = create_engine(\"sqlite:///la_colission.sqlite\")"
   ]
  },
  {
   "cell_type": "code",
   "execution_count": 16,
   "metadata": {},
   "outputs": [],
   "source": [
    "# Create a connection to the engine called `conn`\n",
    "conn = engine.connect()"
   ]
  },
  {
   "cell_type": "code",
   "execution_count": 17,
   "metadata": {},
   "outputs": [],
   "source": [
    "# Use `declarative_base` from SQLAlchemy to model the demographics table as an ORM class\n",
    "# Make sure to specify types for each column, e.g. Integer, Text, etc.\n",
    "# http://docs.sqlalchemy.org/en/latest/core/type_basics.html\n",
    "Base = declarative_base()\n",
    "\n",
    "class Customer(Base):\n",
    "    __tablename__ = 'collision'\n",
    "\n",
    "    id = Column(Integer, primary_key=True)\n",
    "    age = Column(Integer)\n",
    "    descent = Column(Text)\n",
    "    sex = Column(Text)\n",
    "    area = Column(Text)\n",
    "    location = Column(Text)\n",
    "    intersection= Column(Text)\n",
    "    geojson= Column(Text)\n",
    "    date = Column(Text)\n",
    "    day_of_week = Column(Text)\n",
    "    time = Column(Text)\n",
    "    reporting_district = Column(Text)\n",
    "   \n",
    "    def __repr__(self):\n",
    "        return f\"id={self.id}, age={self.age}, descent={self.descent}, sex={self.sex}, area={self.area}, location={self.location}, intersection={self.intersection}, geojson={self.geojson}, date={self.date}, day_of_week={self.day_of_week}, time={self.time}, reporting_district={self.reporting_district}\""
   ]
  },
  {
   "cell_type": "code",
   "execution_count": 18,
   "metadata": {},
   "outputs": [],
   "source": [
    "# Use `create_all` to create the customers table in the database\n",
    "Base.metadata.create_all(engine)"
   ]
  },
  {
   "cell_type": "code",
   "execution_count": 19,
   "metadata": {},
   "outputs": [],
   "source": [
    "# Load the cleaned csv file into a pandas dataframe\n",
    "new_df = pd.read_csv('data/Cleaned_collision.csv')"
   ]
  },
  {
   "cell_type": "code",
   "execution_count": 20,
   "metadata": {},
   "outputs": [],
   "source": [
    "# Use Orient='records' to create a list of data to write\n",
    "# to_dict() cleans out DataFrame metadata as well\n",
    "# http://pandas-docs.github.io/pandas-docs-travis/io.html#orient-options\n",
    "data = new_df.to_dict(orient='records')"
   ]
  },
  {
   "cell_type": "code",
   "execution_count": 21,
   "metadata": {},
   "outputs": [
    {
     "name": "stdout",
     "output_type": "stream",
     "text": [
      "[{'age': 55.0, 'descent': 'B', 'sex': 'M', 'area': 'Central', 'location': 'ALAMEDA', 'intersection': '2ND', 'geojson': \"{'type': 'Point', 'coordinates': [-118.2381, 34.0455]}\", 'date': '2010-04-20', 'day_of_week': 'Tuesday', 'time': 1235, 'reporting_district': 138}, {'age': 37.0, 'descent': 'B', 'sex': 'M', 'area': 'Wilshire', 'location': 'PICO', 'intersection': 'RIMPAU', 'geojson': \"{'type': 'Point', 'coordinates': [-118.337, 34.0488]}\", 'date': '2010-12-21', 'day_of_week': 'Tuesday', 'time': 2218, 'reporting_district': 758}, {'age': 29.0, 'descent': 'H', 'sex': 'M', 'area': 'Central', 'location': '5TH', 'intersection': 'BROADWAY', 'geojson': \"{'type': 'Point', 'coordinates': [-118.2507, 34.0481]}\", 'date': '2010-06-04', 'day_of_week': 'Friday', 'time': 2310, 'reporting_district': 153}, {'age': 43.0, 'descent': 'B', 'sex': 'F', 'area': 'Central', 'location': '4TH', 'intersection': 'SAN PEDRO', 'geojson': \"{'type': 'Point', 'coordinates': [-118.2422, 34.0454]}\", 'date': '2010-03-22', 'day_of_week': 'Monday', 'time': 1325, 'reporting_district': 148}, {'age': 34.0, 'descent': 'O', 'sex': 'M', 'area': 'Newton', 'location': 'HILL', 'intersection': 'ADAMS', 'geojson': \"{'type': 'Point', 'coordinates': [-118.2708, 34.0258]}\", 'date': '2010-01-12', 'day_of_week': 'Tuesday', 'time': 1800, 'reporting_district': 1321}]\n"
     ]
    }
   ],
   "source": [
    "# Data is just a list of dictionaries that represent each row of data\n",
    "print(data[:5])"
   ]
  },
  {
   "cell_type": "code",
   "execution_count": 22,
   "metadata": {},
   "outputs": [],
   "source": [
    "# Use MetaData from SQLAlchemy to reflect the tables\n",
    "metadata = MetaData(bind=engine)\n",
    "metadata.reflect()"
   ]
  },
  {
   "cell_type": "code",
   "execution_count": 23,
   "metadata": {},
   "outputs": [],
   "source": [
    "# Save the reference to the `customers` table as a variable called `table`\n",
    "table = sqlalchemy.Table('collision', metadata, autoload=True)"
   ]
  },
  {
   "cell_type": "code",
   "execution_count": 24,
   "metadata": {},
   "outputs": [
    {
     "data": {
      "text/plain": [
       "<sqlalchemy.engine.result.ResultProxy at 0x11b0d3fd0>"
      ]
     },
     "execution_count": 24,
     "metadata": {},
     "output_type": "execute_result"
    }
   ],
   "source": [
    "# Use `table.delete()` to remove any pre-existing data.\n",
    "# Note that this is a convenience function so that you can re-run the example code multiple times.\n",
    "# You would not likely do this step in production.\n",
    "conn.execute(table.delete())"
   ]
  },
  {
   "cell_type": "code",
   "execution_count": 25,
   "metadata": {},
   "outputs": [
    {
     "data": {
      "text/plain": [
       "<sqlalchemy.engine.result.ResultProxy at 0x116803ef0>"
      ]
     },
     "execution_count": 25,
     "metadata": {},
     "output_type": "execute_result"
    }
   ],
   "source": [
    "# Use `table.insert()` to insert the data into the table\n",
    "# The SQL table is populated during this step\n",
    "conn.execute(table.insert(), data)"
   ]
  },
  {
   "cell_type": "code",
   "execution_count": 26,
   "metadata": {},
   "outputs": [
    {
     "data": {
      "text/plain": [
       "[(1, 55, 'B', 'M', 'Central', 'ALAMEDA', '2ND', \"{'type': 'Point', 'coordinates': [-118.2381, 34.0455]}\", '2010-04-20', 'Tuesday', '1235', '138'),\n",
       " (2, 37, 'B', 'M', 'Wilshire', 'PICO', 'RIMPAU', \"{'type': 'Point', 'coordinates': [-118.337, 34.0488]}\", '2010-12-21', 'Tuesday', '2218', '758'),\n",
       " (3, 29, 'H', 'M', 'Central', '5TH', 'BROADWAY', \"{'type': 'Point', 'coordinates': [-118.2507, 34.0481]}\", '2010-06-04', 'Friday', '2310', '153'),\n",
       " (4, 43, 'B', 'F', 'Central', '4TH', 'SAN PEDRO', \"{'type': 'Point', 'coordinates': [-118.2422, 34.0454]}\", '2010-03-22', 'Monday', '1325', '148'),\n",
       " (5, 34, 'O', 'M', 'Newton', 'HILL', 'ADAMS', \"{'type': 'Point', 'coordinates': [-118.2708, 34.0258]}\", '2010-01-12', 'Tuesday', '1800', '1321')]"
      ]
     },
     "execution_count": 26,
     "metadata": {},
     "output_type": "execute_result"
    }
   ],
   "source": [
    "# Test that the insert works by fetching the first 5 rows. \n",
    "conn.execute(\"select * from collision limit 5\").fetchall()"
   ]
  },
  {
   "cell_type": "code",
   "execution_count": null,
   "metadata": {},
   "outputs": [],
   "source": []
  }
 ],
 "metadata": {
  "kernelspec": {
   "display_name": "Python 3",
   "language": "python",
   "name": "python3"
  },
  "language_info": {
   "codemirror_mode": {
    "name": "ipython",
    "version": 3
   },
   "file_extension": ".py",
   "mimetype": "text/x-python",
   "name": "python",
   "nbconvert_exporter": "python",
   "pygments_lexer": "ipython3",
   "version": "3.6.4"
  }
 },
 "nbformat": 4,
 "nbformat_minor": 2
}
